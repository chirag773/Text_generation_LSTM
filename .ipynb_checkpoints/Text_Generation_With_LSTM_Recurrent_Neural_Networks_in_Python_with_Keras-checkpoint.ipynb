{
 "cells": [
  {
   "cell_type": "markdown",
   "metadata": {
    "colab_type": "text",
    "id": "MawxEkGJZl_d"
   },
   "source": [
    "**Text generation with LSTM RNN** .\n",
    "\n",
    "Text Generation With LSTM Recurrent Neural Networks in Python with Keras\n",
    "by Jason Brownlee on August 4, 2016 in Deep Learning for Natural Language Processing\n",
    "Tweet   Share\n",
    "Recurrent neural networks can also be used as generative models.\n",
    "\n",
    "This means that in addition to being used for predictive models (making predictions) they can learn the sequences of a problem and then generate entirely new plausible sequences for the problem domain.\n",
    "\n",
    "Generative models like this are useful not only to study how well a model has learned a problem, but to learn more about the problem domain itself.\n",
    "\n",
    "In this post you will discover how to create a generative model for text, character-by-character using LSTM recurrent neural networks in Python with Keras.\n",
    "\n",
    "\n",
    "After reading this post you will know:\n",
    "\n",
    "\n",
    "*   Where to download a free corpus of text that you can use to train text generative models.\n",
    "*   How to frame the problem of text sequences to a recurrent neural network generative model.\n",
    "*  How to develop an LSTM to generate plausible text sequences for a given problem.\n",
    "\n",
    "**NOTE :**  LSTM recurrent neural networks can be slow to train and it is highly recommend that you train them on GPU hardware.\n",
    "\n",
    "**Problem Description**\n",
    "\n",
    "In this tutorial we are going to use a **shakespeare** Poems.\n",
    "\n",
    "We are going to learn the dependencies between characters and the conditional probabilities of characters in sequences so that we can in turn generate wholly new and original sequences of characters.\n",
    "\n",
    "This is a lot of fun and I recommend repeating these experiments with other books from Project Gutenberg, .[here is a list of the most popular books on the sitet](https://www.gutenberg.org/ebooks/search/%3Fsort_order%3Ddownloads)\n",
    "\n",
    "\n",
    "These experiments are not limited to text, you can also experiment with other ASCII data, such as computer source code, marked up documents in LaTeX, HTML or Markdown and more.\n",
    "\n",
    "You can [download the complete text in ASCII format](http://www.gutenberg.org/cache/epub/11/pg11.txt) (Plain Text UTF-8) for this book for free and place it in your working directory with the filename wonderland.txt.\n",
    "\n",
    "Now we need to prepare the dataset ready for modeling.\n",
    "\n",
    "**Develop a Small LSTM Recurrent Neural Network**\n",
    "\n",
    "\n",
    "In this section we will develop a simple LSTM network to learn sequences of characters from Shakespeare poems. In the next section we will use this model to generate new sequences of characters.\n",
    "\n",
    "Let’s start off by importing the classes and functions we intend to use to train our model."
   ]
  },
  {
   "cell_type": "code",
   "execution_count": 1,
   "metadata": {
    "colab": {
     "base_uri": "https://localhost:8080/",
     "height": 34
    },
    "colab_type": "code",
    "id": "xS_jTJ6R5PfN",
    "outputId": "73b453c5-5a2c-46f8-817e-8e77aa75a29f"
   },
   "outputs": [
    {
     "name": "stderr",
     "output_type": "stream",
     "text": [
      "Using TensorFlow backend.\n"
     ]
    }
   ],
   "source": [
    "import sys\n",
    "import numpy\n",
    "from keras.models import Sequential\n",
    "from keras.layers import Dense\n",
    "from keras.layers import Dropout\n",
    "from keras.layers import LSTM\n",
    "from keras.layers import CuDNNLSTM\n",
    "from keras.layers import BatchNormalization \n",
    "from keras.callbacks import ModelCheckpoint\n",
    "from keras.utils import np_utils"
   ]
  },
  {
   "cell_type": "markdown",
   "metadata": {
    "colab_type": "text",
    "id": "boJuTmWLb7JO"
   },
   "source": [
    "Next, we need to load the ASCII text for the Poems into memory and convert all of the characters to lowercase to reduce the vocabulary that the network must learn."
   ]
  },
  {
   "cell_type": "code",
   "execution_count": 0,
   "metadata": {
    "colab": {},
    "colab_type": "code",
    "id": "43uSLzki54UH"
   },
   "outputs": [],
   "source": [
    "# load ascii text and covert to lowercase\n",
    "filename = \"/content/shakespeare.txt\"\n",
    "raw_text = open(filename).read()\n",
    "raw_text = raw_text.lower()\n"
   ]
  },
  {
   "cell_type": "code",
   "execution_count": 14,
   "metadata": {
    "colab": {
     "base_uri": "https://localhost:8080/",
     "height": 54
    },
    "colab_type": "code",
    "id": "U3JCD5Gg9XWF",
    "outputId": "43605a84-632e-4c8c-c010-4b78172f8d02"
   },
   "outputs": [
    {
     "data": {
      "text/plain": [
       "'the sonnets\\n\\nby william shakespeare\\n\\n1\\nfrom fairest creatures we desire increase,\\nthat thereby beaut'"
      ]
     },
     "execution_count": 14,
     "metadata": {
      "tags": []
     },
     "output_type": "execute_result"
    }
   ],
   "source": [
    "raw_text[:100]"
   ]
  },
  {
   "cell_type": "markdown",
   "metadata": {
    "colab_type": "text",
    "id": "PFcHVlzKdH4a"
   },
   "source": [
    "Now that the book is loaded, we must prepare the data for modeling by the neural network. We cannot model the characters directly, instead we must convert the characters to integers.\n",
    "\n",
    "We can do this easily by first creating a set of all of the distinct characters in the book, then creating a map of each character to a unique integer.\n",
    "\n",
    "Also, when preparing the mapping of unique characters to integers, we must also create a reverse mapping that we can use to convert the integers back to characters so that we can understand the predictions"
   ]
  },
  {
   "cell_type": "code",
   "execution_count": 15,
   "metadata": {
    "colab": {
     "base_uri": "https://localhost:8080/",
     "height": 54
    },
    "colab_type": "code",
    "id": "yP9_aAhd6EFf",
    "outputId": "fcbd159f-0184-4da2-bff1-a4c234c8e183"
   },
   "outputs": [
    {
     "data": {
      "text/plain": [
       "'the sonnets\\n\\nby william shakespeare\\n\\n1\\nfrom fairest creatures we desire increase,\\nthat thereby beaut'"
      ]
     },
     "execution_count": 15,
     "metadata": {
      "tags": []
     },
     "output_type": "execute_result"
    }
   ],
   "source": [
    "\n",
    "# create mapping of unique chars to integers\n",
    "chars = sorted(list(set(raw_text)))\n",
    "char_to_int = dict((c, i) for i, c in enumerate(chars))\n",
    "\n",
    "int_to_char = dict((i, c) for i, c in enumerate(chars))\n",
    "raw_text[:100]"
   ]
  },
  {
   "cell_type": "markdown",
   "metadata": {
    "colab_type": "text",
    "id": "ybBalb4_eThH"
   },
   "source": [
    "Now that the book has been loaded and the mapping prepared, we can summarize the dataset."
   ]
  },
  {
   "cell_type": "code",
   "execution_count": 11,
   "metadata": {
    "colab": {
     "base_uri": "https://localhost:8080/",
     "height": 51
    },
    "colab_type": "code",
    "id": "HJgvfvTK-a2o",
    "outputId": "7d9f56d7-cf9b-413e-8dce-61466efddf21"
   },
   "outputs": [
    {
     "name": "stdout",
     "output_type": "stream",
     "text": [
      "Total Characters:  94630\n",
      "Total Vocab:  48\n"
     ]
    }
   ],
   "source": [
    "n_chars = len(raw_text)\n",
    "n_vocab = len(chars)\n",
    "print(\"Total Characters: \", n_chars)\n",
    "print(\"Total Vocab: \", n_vocab)"
   ]
  },
  {
   "cell_type": "markdown",
   "metadata": {
    "colab_type": "text",
    "id": "7bj8nYtqedi4"
   },
   "source": [
    "We can see that the book has just under 94630 characters and that when converted to lowercase that there are only 48 distinct characters in the vocabulary for the network to learn. Much more than the 26 in the alphabet.\n",
    "\n",
    "We now need to define the training data for the network. There is a lot of flexibility in how you choose to break up the text and expose it to the network during training.\n",
    "\n",
    "In this tutorial we will split the book text up into subsequences with a fixed length of 100 characters, an arbitrary length. We could just as easily split the data up by sentences and pad the shorter sequences and truncate the longer ones.\n",
    "\n",
    "Each training pattern of the network is comprised of 100 time steps of one character (X) followed by one character output (y). When creating these sequences, we slide this window along the whole book one character at a time, allowing each character a chance to be learned from the 100 characters that preceded it (except the first 100 characters of course).\n",
    "\n",
    "For example, if the sequence length is 5 (for simplicity) then the first two training patterns would be as follows:\n",
    "\n",
    "CHAPT -> E\n",
    "\n",
    "HAPTE -> R\n",
    "\n",
    "\n",
    "As we split up the book into these sequences, we convert the characters to integers using our lookup table we prepared earlier."
   ]
  },
  {
   "cell_type": "code",
   "execution_count": 13,
   "metadata": {
    "colab": {
     "base_uri": "https://localhost:8080/",
     "height": 34
    },
    "colab_type": "code",
    "id": "NXe3uqkJ-ed7",
    "outputId": "acfab187-4c82-4f66-cebd-bf534297e62d"
   },
   "outputs": [
    {
     "name": "stdout",
     "output_type": "stream",
     "text": [
      "Total Patterns:  94530\n"
     ]
    }
   ],
   "source": [
    "# prepare the dataset of input to output pairs encoded as integers\n",
    "seq_length = 100\n",
    "dataX = []\n",
    "dataY = []\n",
    "for i in range(0, n_chars - seq_length, 1):\n",
    "\tseq_in = raw_text[i:i + seq_length]\n",
    "\tseq_out = raw_text[i + seq_length]\n",
    "\tdataX.append([char_to_int[char] for char in seq_in])\n",
    "\tdataY.append(char_to_int[seq_out])\n",
    "n_patterns = len(dataX)\n",
    "print(\"Total Patterns: \", n_patterns)\n"
   ]
  },
  {
   "cell_type": "markdown",
   "metadata": {
    "colab_type": "text",
    "id": "R2034xn9fDJO"
   },
   "source": [
    "Running the above code to this point shows us that when we split up the dataset into training data for the network to learn that we have just under 94530 training pattens. This makes sense as excluding the first 100 characters, we have one training pattern to predict each of the remaining characters.\n",
    "\n",
    "\n",
    "First we must transform the list of input sequences into the form [samples, time steps, features] expected by an LSTM network.\n",
    "\n",
    "Next we need to rescale the integers to the range 0-to-1 to make the patterns easier to learn by the LSTM network that uses the sigmoid activation function by default.\n",
    "\n",
    "Finally, we need to convert the output patterns (single characters converted to integers) into a one hot encoding. This is so that we can configure the network to predict the probability of each of the 47 different characters in the vocabulary (an easier representation) rather than trying to force it to predict precisely the next character. Each y value is converted into a sparse vector with a length of 47, full of zeros except with a 1 in the column for the letter (integer) that the pattern represents.\n",
    "\n",
    "We can implement these steps as below"
   ]
  },
  {
   "cell_type": "code",
   "execution_count": 0,
   "metadata": {
    "colab": {},
    "colab_type": "code",
    "id": "b6kE1APs-wgW"
   },
   "outputs": [],
   "source": [
    "# reshape X to be [samples, time steps, features]\n",
    "X = numpy.reshape(dataX, (n_patterns, seq_length, 1))\n",
    "# normalize\n",
    "X = X / float(n_vocab)\n",
    "# one hot encode the output variable\n",
    "y = np_utils.to_categorical(dataY)"
   ]
  },
  {
   "cell_type": "markdown",
   "metadata": {
    "colab_type": "text",
    "id": "xmhmLjVhfoC7"
   },
   "source": [
    "We can now define our LSTM model. Here we define a single hidden LSTM layer with 256 memory units. The network uses dropout with a probability of 20. The output layer is a Dense layer using the softmax activation function to output a probability prediction for each of the 48 characters between 0 and 1.\n",
    "\n",
    "The problem is really a single character classification problem with 48 classes and as such is defined as optimizing the log loss (cross entropy), here using the ADAM optimization algorithm for speed"
   ]
  },
  {
   "cell_type": "code",
   "execution_count": 0,
   "metadata": {
    "colab": {
     "base_uri": "https://localhost:8080/",
     "height": 442
    },
    "colab_type": "code",
    "id": "4kG-au13-5rZ",
    "outputId": "a4a7c75e-3540-4192-d1e6-cfa229dfd758"
   },
   "outputs": [
    {
     "name": "stdout",
     "output_type": "stream",
     "text": [
      "_________________________________________________________________\n",
      "Layer (type)                 Output Shape              Param #   \n",
      "=================================================================\n",
      "lstm_5 (LSTM)                (None, 100, 256)          264192    \n",
      "_________________________________________________________________\n",
      "dropout_5 (Dropout)          (None, 100, 256)          0         \n",
      "_________________________________________________________________\n",
      "lstm_6 (LSTM)                (None, 100, 256)          525312    \n",
      "_________________________________________________________________\n",
      "dropout_6 (Dropout)          (None, 100, 256)          0         \n",
      "_________________________________________________________________\n",
      "lstm_7 (LSTM)                (None, 100, 256)          525312    \n",
      "_________________________________________________________________\n",
      "dropout_7 (Dropout)          (None, 100, 256)          0         \n",
      "_________________________________________________________________\n",
      "lstm_8 (LSTM)                (None, 256)               525312    \n",
      "_________________________________________________________________\n",
      "dropout_8 (Dropout)          (None, 256)               0         \n",
      "_________________________________________________________________\n",
      "dense_2 (Dense)              (None, 48)                12336     \n",
      "=================================================================\n",
      "Total params: 1,852,464\n",
      "Trainable params: 1,852,464\n",
      "Non-trainable params: 0\n",
      "_________________________________________________________________\n"
     ]
    }
   ],
   "source": [
    "# define the LSTM model\n",
    "model = Sequential()\n",
    "model.add(LSTM(256, input_shape=(X.shape[1], X.shape[2]), return_sequences=True))\n",
    "model.add(Dropout(0.2))\n",
    "\n",
    "model.add(LSTM(256, return_sequences=True))\n",
    "model.add(Dropout(0.2))\n",
    "\n",
    "model.add(LSTM(256, return_sequences=True))\n",
    "model.add(Dropout(0.2))\n",
    "\n",
    "model.add(LSTM(256))\n",
    "model.add(Dropout(0.2))\n",
    "\n",
    "model.add(Dense(y.shape[1], activation='softmax'))\n",
    "model.compile(loss='categorical_crossentropy', optimizer='adam')\n",
    "model.summary()"
   ]
  },
  {
   "cell_type": "markdown",
   "metadata": {
    "colab_type": "text",
    "id": "xzGWbg8rf1CA"
   },
   "source": [
    "There is no test dataset. We are modeling the entire training dataset to learn the probability of each character in a sequence.\n",
    "\n",
    "We are not interested in the most accurate (classification accuracy) model of the training dataset. This would be a model that predicts each character in the training dataset perfectly. Instead we are interested in a generalization of the dataset that minimizes the chosen loss function. We are seeking a balance between generalization and overfitting but short of memorization.\n",
    "\n",
    "The network is slow to train (about 8min  per epoch on an Google Colab GPU). Because of the slowness and because of our optimization requirements, we will use model checkpointing to record all of the network weights to file each time an improvement in loss is observed at the end of the epoch. We will use the best set of weights (lowest loss) to instantiate our generative model in the next section."
   ]
  },
  {
   "cell_type": "code",
   "execution_count": 0,
   "metadata": {
    "colab": {},
    "colab_type": "code",
    "id": "qIt7pz5u_UZM"
   },
   "outputs": [],
   "source": [
    "# define the checkpoint\n",
    "filepath=\"weights-improvement-{epoch:02d}-{loss:.4f}.hdf5\"\n",
    "checkpoint = ModelCheckpoint(filepath, monitor='loss', verbose=1, save_best_only=True, mode='min')\n",
    "callbacks_list = [checkpoint]"
   ]
  },
  {
   "cell_type": "markdown",
   "metadata": {
    "colab_type": "text",
    "id": "oagWdSb6f_UA"
   },
   "source": [
    "We can now fit our model to the data. Here we use a modest number of 30 epochs and a large batch size of 64 patterns."
   ]
  },
  {
   "cell_type": "code",
   "execution_count": 0,
   "metadata": {
    "colab": {
     "base_uri": "https://localhost:8080/",
     "height": 2074
    },
    "colab_type": "code",
    "id": "HYKEj4N0_a0U",
    "outputId": "cae515e5-03c1-4554-8f84-2ae41d0c2213"
   },
   "outputs": [
    {
     "name": "stdout",
     "output_type": "stream",
     "text": [
      "Epoch 1/30\n",
      "94530/94530 [==============================] - 804s 9ms/step - loss: 2.9905\n",
      "\n",
      "Epoch 00001: loss improved from inf to 2.99053, saving model to weights-improvement-01-2.9905.hdf5\n",
      "Epoch 2/30\n",
      "94530/94530 [==============================] - 803s 8ms/step - loss: 2.5960\n",
      "\n",
      "Epoch 00002: loss improved from 2.99053 to 2.59595, saving model to weights-improvement-02-2.5960.hdf5\n",
      "Epoch 3/30\n",
      "94530/94530 [==============================] - 801s 8ms/step - loss: 2.3934\n",
      "\n",
      "Epoch 00003: loss improved from 2.59595 to 2.39341, saving model to weights-improvement-03-2.3934.hdf5\n",
      "Epoch 4/30\n",
      "94530/94530 [==============================] - 802s 8ms/step - loss: 2.2411\n",
      "\n",
      "Epoch 00004: loss improved from 2.39341 to 2.24109, saving model to weights-improvement-04-2.2411.hdf5\n",
      "Epoch 5/30\n",
      "94530/94530 [==============================] - 801s 8ms/step - loss: 2.1383\n",
      "\n",
      "Epoch 00005: loss improved from 2.24109 to 2.13826, saving model to weights-improvement-05-2.1383.hdf5\n",
      "Epoch 6/30\n",
      "94530/94530 [==============================] - 803s 8ms/step - loss: 2.0564\n",
      "\n",
      "Epoch 00006: loss improved from 2.13826 to 2.05642, saving model to weights-improvement-06-2.0564.hdf5\n",
      "Epoch 7/30\n",
      "94530/94530 [==============================] - 804s 9ms/step - loss: 1.9944\n",
      "\n",
      "Epoch 00007: loss improved from 2.05642 to 1.99439, saving model to weights-improvement-07-1.9944.hdf5\n",
      "Epoch 8/30\n",
      "94530/94530 [==============================] - 800s 8ms/step - loss: 1.9441\n",
      "\n",
      "Epoch 00008: loss improved from 1.99439 to 1.94409, saving model to weights-improvement-08-1.9441.hdf5\n",
      "Epoch 9/30\n",
      "94530/94530 [==============================] - 797s 8ms/step - loss: 1.9017\n",
      "\n",
      "Epoch 00009: loss improved from 1.94409 to 1.90171, saving model to weights-improvement-09-1.9017.hdf5\n",
      "Epoch 10/30\n",
      "94530/94530 [==============================] - 798s 8ms/step - loss: 1.8667\n",
      "\n",
      "Epoch 00010: loss improved from 1.90171 to 1.86670, saving model to weights-improvement-10-1.8667.hdf5\n",
      "Epoch 11/30\n",
      "94530/94530 [==============================] - 800s 8ms/step - loss: 1.8340\n",
      "\n",
      "Epoch 00011: loss improved from 1.86670 to 1.83402, saving model to weights-improvement-11-1.8340.hdf5\n",
      "Epoch 12/30\n",
      "94530/94530 [==============================] - 794s 8ms/step - loss: 1.7962\n",
      "\n",
      "Epoch 00012: loss improved from 1.83402 to 1.79617, saving model to weights-improvement-12-1.7962.hdf5\n",
      "Epoch 13/30\n",
      "94530/94530 [==============================] - 795s 8ms/step - loss: 1.7700\n",
      "\n",
      "Epoch 00013: loss improved from 1.79617 to 1.77000, saving model to weights-improvement-13-1.7700.hdf5\n",
      "Epoch 14/30\n",
      "94530/94530 [==============================] - 798s 8ms/step - loss: 1.7462\n",
      "\n",
      "Epoch 00014: loss improved from 1.77000 to 1.74617, saving model to weights-improvement-14-1.7462.hdf5\n",
      "Epoch 15/30\n",
      "94530/94530 [==============================] - 801s 8ms/step - loss: 1.7182\n",
      "\n",
      "Epoch 00015: loss improved from 1.74617 to 1.71818, saving model to weights-improvement-15-1.7182.hdf5\n",
      "Epoch 16/30\n",
      "94530/94530 [==============================] - 798s 8ms/step - loss: 1.6973\n",
      "\n",
      "Epoch 00016: loss improved from 1.71818 to 1.69729, saving model to weights-improvement-16-1.6973.hdf5\n",
      "Epoch 17/30\n",
      "94530/94530 [==============================] - 795s 8ms/step - loss: 1.6712\n",
      "\n",
      "Epoch 00017: loss improved from 1.69729 to 1.67119, saving model to weights-improvement-17-1.6712.hdf5\n",
      "Epoch 18/30\n",
      "94530/94530 [==============================] - 794s 8ms/step - loss: 1.6496\n",
      "\n",
      "Epoch 00018: loss improved from 1.67119 to 1.64958, saving model to weights-improvement-18-1.6496.hdf5\n",
      "Epoch 19/30\n",
      "94530/94530 [==============================] - 797s 8ms/step - loss: 1.6272\n",
      "\n",
      "Epoch 00019: loss improved from 1.64958 to 1.62723, saving model to weights-improvement-19-1.6272.hdf5\n",
      "Epoch 20/30\n",
      "94530/94530 [==============================] - 799s 8ms/step - loss: 1.6100\n",
      "\n",
      "Epoch 00020: loss improved from 1.62723 to 1.61005, saving model to weights-improvement-20-1.6100.hdf5\n",
      "Epoch 21/30\n",
      "94530/94530 [==============================] - 796s 8ms/step - loss: 1.5873\n",
      "\n",
      "Epoch 00021: loss improved from 1.61005 to 1.58730, saving model to weights-improvement-21-1.5873.hdf5\n",
      "Epoch 22/30\n",
      "94530/94530 [==============================] - 792s 8ms/step - loss: 1.5728\n",
      "\n",
      "Epoch 00022: loss improved from 1.58730 to 1.57282, saving model to weights-improvement-22-1.5728.hdf5\n",
      "Epoch 23/30\n",
      "94530/94530 [==============================] - 799s 8ms/step - loss: 1.5524\n",
      "\n",
      "Epoch 00023: loss improved from 1.57282 to 1.55243, saving model to weights-improvement-23-1.5524.hdf5\n",
      "Epoch 24/30\n",
      "94530/94530 [==============================] - 803s 8ms/step - loss: 1.5404\n",
      "\n",
      "Epoch 00024: loss improved from 1.55243 to 1.54043, saving model to weights-improvement-24-1.5404.hdf5\n",
      "Epoch 25/30\n",
      "94530/94530 [==============================] - 802s 8ms/step - loss: 1.5184\n",
      "\n",
      "Epoch 00025: loss improved from 1.54043 to 1.51838, saving model to weights-improvement-25-1.5184.hdf5\n",
      "Epoch 26/30\n",
      "94530/94530 [==============================] - 798s 8ms/step - loss: 1.5044\n",
      "\n",
      "Epoch 00026: loss improved from 1.51838 to 1.50440, saving model to weights-improvement-26-1.5044.hdf5\n",
      "Epoch 27/30\n",
      "94530/94530 [==============================] - 802s 8ms/step - loss: 1.4918\n",
      "\n",
      "Epoch 00027: loss improved from 1.50440 to 1.49179, saving model to weights-improvement-27-1.4918.hdf5\n",
      "Epoch 28/30\n",
      "94530/94530 [==============================] - 803s 8ms/step - loss: 1.4749\n",
      "\n",
      "Epoch 00028: loss improved from 1.49179 to 1.47492, saving model to weights-improvement-28-1.4749.hdf5\n",
      "Epoch 29/30\n",
      "94530/94530 [==============================] - 799s 8ms/step - loss: 1.4608\n",
      "\n",
      "Epoch 00029: loss improved from 1.47492 to 1.46075, saving model to weights-improvement-29-1.4608.hdf5\n",
      "Epoch 30/30\n",
      "94530/94530 [==============================] - 791s 8ms/step - loss: 1.4482\n",
      "\n",
      "Epoch 00030: loss improved from 1.46075 to 1.44823, saving model to weights-improvement-30-1.4482.hdf5\n"
     ]
    },
    {
     "data": {
      "text/plain": [
       "<keras.callbacks.History at 0x7f51846fd550>"
      ]
     },
     "execution_count": 21,
     "metadata": {
      "tags": []
     },
     "output_type": "execute_result"
    }
   ],
   "source": [
    "model.fit(X, y, epochs=30, batch_size=64, callbacks=callbacks_list)"
   ]
  },
  {
   "cell_type": "markdown",
   "metadata": {
    "colab_type": "text",
    "id": "k7EWyMlUgOVo"
   },
   "source": [
    "You will see different results because of the stochastic nature of the model, and because it is hard to fix the random seed for LSTM models to get 100% reproducible results. This is not a concern for this generative model.\n",
    "\n",
    "After running the example, you should have a number of weight checkpoint files in the local directory.\n",
    "\n",
    "You can delete them all except the one with the smallest loss value. For example, when I ran this example, below was the checkpoint with the smallest loss that I achieved.\n",
    "\n",
    "In my case **saving model to weights-improvement-30-1.4482.hdf5**\n",
    "\n",
    "The network loss decreased almost every epoch and I expect the network could benefit from training for many more epochs.\n",
    "\n",
    "In the next section we will look at using this model to generate new text sequences.\n",
    "\n",
    "**Generating Text with an LSTM Network**\n",
    "\n",
    "\n",
    "Generating text using the trained LSTM network is relatively straightforward.\n",
    "\n",
    "Firstly, we load the data and define the network in exactly the same way, except the network weights are loaded from a checkpoint file and the network does not need to be trained."
   ]
  },
  {
   "cell_type": "code",
   "execution_count": 0,
   "metadata": {
    "colab": {},
    "colab_type": "code",
    "id": "HyBo8c9Mn9g5"
   },
   "outputs": [],
   "source": [
    "# load the network weights\n",
    "filename = \"weights-improvement-28-1.4749.hdf5\"\n",
    "model.load_weights(filename)\n",
    "model.compile(loss='categorical_crossentropy', optimizer='adam')"
   ]
  },
  {
   "cell_type": "markdown",
   "metadata": {
    "colab_type": "text",
    "id": "chOtM4WPhM-5"
   },
   "source": [
    "Finally, we need to actually make predictions.\n",
    "\n",
    "The simplest way to use the Keras LSTM model to make predictions is to first start off with a seed sequence as input, generate the next character then update the seed sequence to add the generated character on the end and trim off the first character. This process is repeated for as long as we want to predict new characters (e.g. a sequence of 1,000 characters in length).\n",
    "\n",
    "We can pick a random input pattern as our seed sequence, then print generated characters as we generate them."
   ]
  },
  {
   "cell_type": "code",
   "execution_count": 0,
   "metadata": {
    "colab": {
     "base_uri": "https://localhost:8080/",
     "height": 204
    },
    "colab_type": "code",
    "id": "EUxYr_0MVvYC",
    "outputId": "21c3efe0-233f-41af-d49f-50c9da014c40"
   },
   "outputs": [
    {
     "name": "stdout",
     "output_type": "stream",
     "text": [
      "Seed:\n",
      "\" ave added feathers to the learned's wing,\n",
      "and given grace a double majesty.\n",
      "yet be most proud of tha \"\n",
      "t which i that see thee all thee,\n",
      "the stn of thee the stn of thee,\n",
      "then should the stn of thee in thee in thee,\n",
      "the sun of thee the stn of thee,\n",
      "then should the stn of thee in thee in thee,\n",
      "the sun of\n",
      "Done.\n"
     ]
    }
   ],
   "source": [
    "\n",
    "# pick a random seed\n",
    "start = numpy.random.randint(0, len(dataX)-1)\n",
    "pattern = dataX[start]\n",
    "print(\"Seed:\")\n",
    "print(\"\\\"\", ''.join([int_to_char[value] for value in pattern]), \"\\\"\")\n",
    "# generate characters\n",
    "for i in range(200):\n",
    "\tx = numpy.reshape(pattern, (1, len(pattern), 1))\n",
    "\tx = x / float(n_vocab)\n",
    "\tprediction = model.predict(x, verbose=0)\n",
    "\tindex = numpy.argmax(prediction)\n",
    "\tresult = int_to_char[index]\n",
    "\tseq_in = [int_to_char[value] for value in pattern]\n",
    "\tsys.stdout.write(result)\n",
    "\tpattern.append(index)\n",
    "\tpattern = pattern[1:len(pattern)]\n",
    "print(\"\\nDone.\")"
   ]
  },
  {
   "cell_type": "markdown",
   "metadata": {
    "colab_type": "text",
    "id": "TKHc3k-Vhhb0"
   },
   "source": [
    "Running this example first outputs the selected random seed, then each character as it is generated.\n",
    "\n",
    "For example, above are the results from one run of this text generator. The random seed was:\n",
    "\n",
    "\n",
    "We can note some observations about the generated text.\n",
    "\n",
    "*   It generally conforms to the line format observed in the original text of less than 80 characters before a new line.\n",
    "*   The characters are separated into word-like groups and most groups are actual English words (e.g. “than “the”), but many do not (e.g. \"then should the stn of thee in thee in thee\")\n",
    "\n",
    "\n",
    "The fact that this character based model of the book produces output like this is very impressive. It gives you a sense of the learning capabilities of LSTM networks.\n"
   ]
  },
  {
   "cell_type": "code",
   "execution_count": 0,
   "metadata": {
    "colab": {},
    "colab_type": "code",
    "id": "TnTwmE-wWI3b"
   },
   "outputs": [],
   "source": []
  }
 ],
 "metadata": {
  "accelerator": "GPU",
  "colab": {
   "collapsed_sections": [],
   "name": "Text Generation With LSTM Recurrent Neural Networks in Python with Keras.ipynb",
   "provenance": [],
   "toc_visible": true,
   "version": "0.3.2"
  },
  "kernelspec": {
   "display_name": "Python 3",
   "language": "python",
   "name": "python3"
  },
  "language_info": {
   "codemirror_mode": {
    "name": "ipython",
    "version": 3
   },
   "file_extension": ".py",
   "mimetype": "text/x-python",
   "name": "python",
   "nbconvert_exporter": "python",
   "pygments_lexer": "ipython3",
   "version": "3.6.7"
  }
 },
 "nbformat": 4,
 "nbformat_minor": 1
}
